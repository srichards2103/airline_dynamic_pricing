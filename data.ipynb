{
 "cells": [
  {
   "cell_type": "code",
   "execution_count": 1,
   "metadata": {},
   "outputs": [
    {
     "name": "stderr",
     "output_type": "stream",
     "text": [
      "/Users/samrichards/miniconda3/envs/pydev/lib/python3.11/site-packages/dask/dataframe/__init__.py:42: FutureWarning: \n",
      "Dask dataframe query planning is disabled because dask-expr is not installed.\n",
      "\n",
      "You can install it with `pip install dask[dataframe]` or `conda install dask`.\n",
      "This will raise in a future version.\n",
      "\n",
      "  warnings.warn(msg, FutureWarning)\n"
     ]
    }
   ],
   "source": [
    "import dask.dataframe as dd\n",
    "\n",
    "# Initialize Dask (optional)\n",
    "from dask.distributed import Client\n",
    "client = Client()  # This will start a local cluster\n",
    "\n",
    "# Define the path to your Parquet file\n",
    "parquet_file = 'data/itineraries_gzip.parquet'\n",
    "\n",
    "# Read the Parquet file with Dask\n",
    "df = dd.read_parquet(parquet_file)\n",
    "\n",
    "\n"
   ]
  },
  {
   "cell_type": "code",
   "execution_count": 2,
   "metadata": {},
   "outputs": [
    {
     "name": "stderr",
     "output_type": "stream",
     "text": [
      "/Users/samrichards/miniconda3/envs/pydev/lib/python3.11/site-packages/dask/dataframe/__init__.py:42: FutureWarning: \n",
      "Dask dataframe query planning is disabled because dask-expr is not installed.\n",
      "\n",
      "You can install it with `pip install dask[dataframe]` or `conda install dask`.\n",
      "This will raise in a future version.\n",
      "\n",
      "  warnings.warn(msg, FutureWarning)\n",
      "/Users/samrichards/miniconda3/envs/pydev/lib/python3.11/site-packages/dask/dataframe/__init__.py:42: FutureWarning: \n",
      "Dask dataframe query planning is disabled because dask-expr is not installed.\n",
      "\n",
      "You can install it with `pip install dask[dataframe]` or `conda install dask`.\n",
      "This will raise in a future version.\n",
      "\n",
      "  warnings.warn(msg, FutureWarning)\n",
      "/Users/samrichards/miniconda3/envs/pydev/lib/python3.11/site-packages/dask/dataframe/__init__.py:42: FutureWarning: \n",
      "Dask dataframe query planning is disabled because dask-expr is not installed.\n",
      "\n",
      "You can install it with `pip install dask[dataframe]` or `conda install dask`.\n",
      "This will raise in a future version.\n",
      "\n",
      "  warnings.warn(msg, FutureWarning)\n",
      "/Users/samrichards/miniconda3/envs/pydev/lib/python3.11/site-packages/dask/dataframe/__init__.py:42: FutureWarning: \n",
      "Dask dataframe query planning is disabled because dask-expr is not installed.\n",
      "\n",
      "You can install it with `pip install dask[dataframe]` or `conda install dask`.\n",
      "This will raise in a future version.\n",
      "\n",
      "  warnings.warn(msg, FutureWarning)\n",
      "2024-10-04 10:42:46,955 - distributed.worker.memory - WARNING - Unmanaged memory use is high. This may indicate a memory leak or the memory may not be released to the OS; see https://distributed.dask.org/en/latest/worker-memory.html#memory-not-released-back-to-the-os for more information. -- Unmanaged memory: 3.08 GiB -- Worker memory limit: 4.50 GiB\n"
     ]
    },
    {
     "name": "stdout",
     "output_type": "stream",
     "text": [
      "legId\n",
      "318ae5fe46ac6a4ed5e1ee55f5b53677    61\n",
      "6365830250822d8732e98ac28735f7b0    61\n",
      "65f59b3c81d5fcdea844c33e88cb2348    61\n",
      "809668b03345672b1487b8582c0b3fd2    61\n",
      "acba22c02469274e43928521bcead4c8    61\n",
      "                                    ..\n",
      "ffffbb00258e04ea2fe30e44800ba88a     1\n",
      "ffffbba9fa8db40e27c231a8395cccb3     1\n",
      "ffffe2fb6a1480afd717052d7b61cc3e     1\n",
      "ffffe7aa2c35e8bf4d567cc544ce006d     1\n",
      "fffff3e31a428989701ad6ad3d0212e4     1\n",
      "Name: count, Length: 5999739, dtype: int64[pyarrow]\n"
     ]
    }
   ],
   "source": [
    "# Print the distribution of the number of rows for each legId\n",
    "print(df['legId'].value_counts().compute())\n",
    "\n"
   ]
  },
  {
   "cell_type": "code",
   "execution_count": 3,
   "metadata": {},
   "outputs": [
    {
     "name": "stderr",
     "output_type": "stream",
     "text": [
      "2024-10-04 10:44:22,134 - distributed.worker.memory - WARNING - Worker is at 83% memory usage. Pausing worker.  Process memory: 3.75 GiB -- Worker memory limit: 4.50 GiB\n",
      "2024-10-04 10:44:22,205 - distributed.worker.memory - WARNING - Worker is at 66% memory usage. Resuming worker. Process memory: 3.00 GiB -- Worker memory limit: 4.50 GiB\n"
     ]
    }
   ],
   "source": [
    "# Get the rows for this 318ae5fe46ac6a4ed5e1ee55f5b53677 legId and save to a new CSV file\n",
    "df[df['legId'] == '318ae5fe46ac6a4ed5e1ee55f5b53677'].compute().to_csv('data/legs/318ae5fe46ac6a4ed5e1ee55f5b53677.csv', index=False)\n",
    "\n"
   ]
  },
  {
   "cell_type": "code",
   "execution_count": 4,
   "metadata": {},
   "outputs": [
    {
     "name": "stdout",
     "output_type": "stream",
     "text": [
      "seatsRemaining\n",
      "7     28722589\n",
      "9     21850978\n",
      "0      5337946\n",
      "1      4876317\n",
      "4      4815097\n",
      "2      4553753\n",
      "3      4135191\n",
      "5      3281851\n",
      "6      2966026\n",
      "8      1337697\n",
      "10      261308\n",
      "Name: count, dtype: int64\n"
     ]
    }
   ],
   "source": [
    "# Get counts of seatsRemaining for each legId\n",
    "print(df['seatsRemaining'].value_counts().compute())\n",
    "\n"
   ]
  },
  {
   "cell_type": "code",
   "execution_count": null,
   "metadata": {},
   "outputs": [],
   "source": []
  }
 ],
 "metadata": {
  "kernelspec": {
   "display_name": "pydev",
   "language": "python",
   "name": "python3"
  },
  "language_info": {
   "codemirror_mode": {
    "name": "ipython",
    "version": 3
   },
   "file_extension": ".py",
   "mimetype": "text/x-python",
   "name": "python",
   "nbconvert_exporter": "python",
   "pygments_lexer": "ipython3",
   "version": "3.11.9"
  }
 },
 "nbformat": 4,
 "nbformat_minor": 2
}
